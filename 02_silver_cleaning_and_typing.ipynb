{
 "cells": [
  {
   "cell_type": "code",
   "execution_count": 0,
   "metadata": {
    "application/vnd.databricks.v1+cell": {
     "cellMetadata": {},
     "inputWidgets": {},
     "nuid": "fc257f5e-fa3c-4af0-989a-137652c1b344",
     "showTitle": false,
     "tableResultSettingsMap": {},
     "title": ""
    }
   },
   "outputs": [],
   "source": [
    "import dlt\n",
    "from pyspark.sql.functions import to_date, when\n",
    "\n",
    "@dlt.table(\n",
    "  name=\"retail_transactions_clean\",\n",
    "  comment=\"Cleansed retail transactions\",\n",
    "  schema=\"silver_sch\"\n",
    ")\n",
    "def silver_retail_transactions():\n",
    "    df = dlt.read(\"bronze.retail_transactions_raw\")\n",
    "\n",
    "    return (\n",
    "        df.withColumn(\"TXN_DATE\", to_date(\"TXN_TIMESTAMP\"))\n",
    "          .withColumn(\"QUANTITY\", df[\"QUANTITY\"].cast(\"int\"))\n",
    "          .withColumn(\"UNIT_REGULAR_PRICE_USD\", df[\"UNIT_REGULAR_PRICE_USD\"].cast(\"double\"))\n",
    "          .withColumn(\"EXTENDED_PRICE_USD\", df[\"EXTENDED_PRICE_USD\"].cast(\"double\"))\n",
    "          .withColumn(\"GROSS_MARGIN_AMT_USD\", df[\"GROSS_MARGIN_AMT_USD\"].cast(\"double\"))\n",
    "          .withColumn(\"GUEST_TYPE\", when(df[\"GUEST_ID\"].isNull(), \"ANONYMOUS\").otherwise(\"IDENTIFIED\"))\n",
    "    )\n"
   ]
  }
 ],
 "metadata": {
  "application/vnd.databricks.v1+notebook": {
   "computePreferences": null,
   "dashboards": [],
   "environmentMetadata": {
    "base_environment": "",
    "environment_version": "2"
   },
   "inputWidgetPreferences": null,
   "language": "python",
   "notebookMetadata": {
    "pythonIndentUnit": 4
   },
   "notebookName": "02_silver_cleaning_and_typing",
   "widgets": {}
  },
  "language_info": {
   "name": "python"
  }
 },
 "nbformat": 4,
 "nbformat_minor": 0
}
