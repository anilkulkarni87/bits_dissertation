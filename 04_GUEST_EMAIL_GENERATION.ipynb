{
 "cells": [
  {
   "cell_type": "code",
   "execution_count": 0,
   "metadata": {
    "application/vnd.databricks.v1+cell": {
     "cellMetadata": {
      "byteLimit": 2048000,
      "rowLimit": 10000
     },
     "inputWidgets": {},
     "nuid": "06e4c461-1c0b-441e-aeeb-08d62b3ba0bc",
     "showTitle": false,
     "tableResultSettingsMap": {},
     "title": ""
    }
   },
   "outputs": [],
   "source": [
    "# Step 1: Install and import dependencies\n",
    "!pip install openai --upgrade"
   ]
  },
  {
   "cell_type": "code",
   "execution_count": 0,
   "metadata": {
    "application/vnd.databricks.v1+cell": {
     "cellMetadata": {
      "byteLimit": 2048000,
      "rowLimit": 10000
     },
     "inputWidgets": {},
     "nuid": "5beb3507-ae94-4a2b-93a3-e1d8888a37a9",
     "showTitle": false,
     "tableResultSettingsMap": {},
     "title": ""
    }
   },
   "outputs": [],
   "source": [
    "import openai\n",
    "import pandas as pd"
   ]
  },
  {
   "cell_type": "code",
   "execution_count": 0,
   "metadata": {
    "application/vnd.databricks.v1+cell": {
     "cellMetadata": {
      "byteLimit": 2048000,
      "rowLimit": 10000
     },
     "inputWidgets": {},
     "nuid": "473250ab-e72f-47e4-9712-4e3de22bfa82",
     "showTitle": false,
     "tableResultSettingsMap": {},
     "title": ""
    }
   },
   "outputs": [],
   "source": [
    "\n",
    "# Step 3: Campaign Dictionary\n",
    "campaign_dict = {\n",
    "    \"loyalty_reward\": {\n",
    "        \"campaign_type\": \"Loyalty Reward\",\n",
    "        \"offer_template\": \"Exclusive reward: $20 off your next {top_category} purchase\",\n",
    "        \"tone\": \"Warm and appreciative\",\n",
    "        \"call_to_action\": \"Claim Your Reward\"\n",
    "    },\n",
    "    \"reactivation\": {\n",
    "        \"campaign_type\": \"We Miss You\",\n",
    "        \"offer_template\": \"Here’s 25% off to welcome you back to our {top_category} collection!\",\n",
    "        \"tone\": \"Friendly and encouraging\",\n",
    "        \"call_to_action\": \"Come Back Today\"\n",
    "    },\n",
    "    \"seasonal_sale\": {\n",
    "        \"campaign_type\": \"Seasonal Sale\",\n",
    "        \"offer_template\": \"Seasonal offer: 30% off all {top_category} items!\",\n",
    "        \"tone\": \"Exciting and persuasive\",\n",
    "        \"call_to_action\": \"Shop the Sale\"\n",
    "    },\n",
    "    \"new_arrival\": {\n",
    "        \"campaign_type\": \"New Arrival\",\n",
    "        \"offer_template\": \"Discover the latest in {top_category} — just arrived!\",\n",
    "        \"tone\": \"Fresh and trendy\",\n",
    "        \"call_to_action\": \"Explore Now\"\n",
    "    }\n",
    "}\n",
    "\n",
    "# Step 4: Define Prompt Generator\n",
    "def build_prompt(row):\n",
    "    template = campaign_dict[row[\"campaign_key\"]]\n",
    "    offer = template[\"offer_template\"].format(top_category=row[\"top_category\"])\n",
    "\n",
    "    return f\"\"\"Write a personalized marketing email.\n",
    "\n",
    "Persona: {row['persona_sentence']}\n",
    "Segment: {row['persona_cluster_label']}\n",
    "Campaign Type: {template['campaign_type']}\n",
    "Offer: “{offer}”\n",
    "Tone: {template['tone']}\n",
    "Call-to-action: “{template['call_to_action']}”\n",
    "\"\"\"\n",
    "\n",
    "# Step 5: Load sample guests from Spark\n",
    "spark_df = spark.table(\"bits_pilani.gold_sch.guest_persona_campaign_enriched\")\n",
    "sample_df = spark_df.limit(10).toPandas()\n",
    "\n",
    "# Step 6: Generate prompts\n",
    "sample_df[\"prompt\"] = sample_df.apply(build_prompt, axis=1)\n",
    "display(sample_df)"
   ]
  },
  {
   "cell_type": "code",
   "execution_count": 0,
   "metadata": {
    "application/vnd.databricks.v1+cell": {
     "cellMetadata": {
      "byteLimit": 2048000,
      "rowLimit": 10000
     },
     "inputWidgets": {},
     "nuid": "2a7235e4-91ac-48f7-86b3-92d5e34097eb",
     "showTitle": false,
     "tableResultSettingsMap": {},
     "title": ""
    }
   },
   "outputs": [],
   "source": [
    "# Step 0: Import and initialize OpenAI client (v1+)\n",
    "from openai import OpenAI\n",
    "\n",
    "# 2. Retrieve the secret in Python\n",
    "# openai_api_key = dbutils.secrets.get(scope=\"openai\", key=\"openai_api_key\")\n",
    "\n",
    "client = OpenAI\n",
    "(api_key=\"\")  # Replace with your key or use environment variable\n",
    "\n",
    "\n",
    "\n",
    "# Step 7: Generate email content via OpenAI\n",
    "def generate_email(prompt):\n",
    "    try:\n",
    "        response = client.chat.completions.create(\n",
    "            model=\"gpt-3.5-turbo\",\n",
    "            messages=[\n",
    "                {\"role\": \"system\", \"content\": \"You are a marketing assistant helping write email content.\"},\n",
    "                {\"role\": \"user\", \"content\": prompt}\n",
    "            ],\n",
    "            max_tokens=300,\n",
    "            temperature=0.7\n",
    "        )\n",
    "        return response.choices[0].message.content.strip()\n",
    "    except Exception as e:\n",
    "        return f\"ERROR: {e}\"\n",
    "\n",
    "# Apply to DataFrame\n",
    "sample_df[\"email_generated\"] = sample_df[\"prompt\"].apply(generate_email)\n"
   ]
  },
  {
   "cell_type": "code",
   "execution_count": 0,
   "metadata": {
    "application/vnd.databricks.v1+cell": {
     "cellMetadata": {
      "byteLimit": 2048000,
      "rowLimit": 10000
     },
     "inputWidgets": {},
     "nuid": "ccfef446-6ce6-4b1f-880d-5dc36914f7ec",
     "showTitle": false,
     "tableResultSettingsMap": {},
     "title": ""
    }
   },
   "outputs": [],
   "source": [
    "display(sample_df)"
   ]
  },
  {
   "cell_type": "code",
   "execution_count": 0,
   "metadata": {
    "application/vnd.databricks.v1+cell": {
     "cellMetadata": {
      "byteLimit": 2048000,
      "rowLimit": 10000
     },
     "inputWidgets": {},
     "nuid": "7f57672d-6ca3-4ec0-839e-a05c5c48fa22",
     "showTitle": false,
     "tableResultSettingsMap": {},
     "title": ""
    }
   },
   "outputs": [],
   "source": [
    "# Step 8: Save or export results\n",
    "sample_df[[\n",
    "    \"MASTER_GUEST_ID\", \"persona_cluster_label\", \"campaign_key\",\"prompt\",\"cluster_sentence\",\"persona_sentence\", \"email_generated\"\n",
    "]].to_csv(\"generated_emails_sample.csv\", index=False)\n",
    "\n",
    "# Optional: Save to Spark table\n",
    "df_result = spark.createDataFrame(sample_df)\n",
    "df_result.write.mode(\"overwrite\").saveAsTable(\"bits_pilani.gold_sch.generated_emails_sample\")"
   ]
  }
 ],
 "metadata": {
  "application/vnd.databricks.v1+notebook": {
   "computePreferences": null,
   "dashboards": [],
   "environmentMetadata": {
    "base_environment": "",
    "environment_version": "2"
   },
   "inputWidgetPreferences": null,
   "language": "python",
   "notebookMetadata": {
    "mostRecentlyExecutedCommandWithImplicitDF": {
     "commandId": 5954235563039125,
     "dataframes": [
      "_sqldf"
     ]
    },
    "pythonIndentUnit": 4
   },
   "notebookName": "04_GUEST_EMAIL_GENERATION",
   "widgets": {}
  },
  "language_info": {
   "name": "python"
  }
 },
 "nbformat": 4,
 "nbformat_minor": 0
}
