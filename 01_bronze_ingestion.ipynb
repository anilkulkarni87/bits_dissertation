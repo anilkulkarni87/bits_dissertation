{
 "cells": [
  {
   "cell_type": "code",
   "execution_count": 0,
   "metadata": {
    "application/vnd.databricks.v1+cell": {
     "cellMetadata": {},
     "inputWidgets": {},
     "nuid": "583dc486-6602-422e-abe2-1aabb1bc3a08",
     "showTitle": false,
     "tableResultSettingsMap": {},
     "title": ""
    }
   },
   "outputs": [],
   "source": [
    "import dlt\n",
    "from pyspark.sql.functions import current_timestamp, input_file_name\n",
    "\n",
    "@dlt.table(\n",
    "  name=\"retail_transactions_raw\",\n",
    "  comment=\"Raw retail transactions\",\n",
    "  schema=\"bronze_sch\"\n",
    ")\n",
    "def bronze_retail_transactions():\n",
    "    return (\n",
    "        spark.read.option(\"header\", \"true\").option(\"inferSchema\", \"true\")\n",
    "        .csv(\"/Volumes/bits_pilani/raw_sch/raw_data/synthetic_retail_transactions_1year.csv\")\n",
    "        .withColumn(\"_ingestion_timestamp\", current_timestamp())\n",
    "        .withColumn(\"_file_name\", input_file_name())\n",
    "    )\n"
   ]
  }
 ],
 "metadata": {
  "application/vnd.databricks.v1+notebook": {
   "computePreferences": null,
   "dashboards": [],
   "environmentMetadata": {
    "base_environment": "",
    "environment_version": "2"
   },
   "inputWidgetPreferences": null,
   "language": "python",
   "notebookMetadata": {
    "pythonIndentUnit": 4
   },
   "notebookName": "01_bronze_ingestion",
   "widgets": {}
  },
  "language_info": {
   "name": "python"
  }
 },
 "nbformat": 4,
 "nbformat_minor": 0
}
