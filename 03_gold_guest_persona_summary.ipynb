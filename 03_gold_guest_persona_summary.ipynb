{
 "cells": [
  {
   "cell_type": "code",
   "execution_count": 0,
   "metadata": {
    "application/vnd.databricks.v1+cell": {
     "cellMetadata": {},
     "inputWidgets": {},
     "nuid": "bafa515c-c2f8-4c90-b079-2da9bf6314de",
     "showTitle": false,
     "tableResultSettingsMap": {},
     "title": ""
    }
   },
   "outputs": [],
   "source": [
    "import dlt\n",
    "from pyspark.sql.functions import (\n",
    "    col, count, sum as _sum, avg, max as _max, datediff, lit, expr,\n",
    "    when, concat_ws, lower\n",
    ")\n",
    "\n",
    "@dlt.table(\n",
    "  name=\"guest_persona_summary\",\n",
    "  comment=\"Aggregated guest-level profile data\",\n",
    "  schema=\"gold\"\n",
    ")\n",
    "def gold_guest_persona_summary():\n",
    "    df = dlt.read(\"silver.retail_transactions_clean\")\n",
    "    linked_df = df.filter(col(\"MASTER_GUEST_ID\").isNotNull())\n",
    "\n",
    "    ref_date = linked_df.agg(_max(\"TXN_TIMESTAMP\").alias(\"max_ts\")).collect()[0][\"max_ts\"]\n",
    "\n",
    "    def mode_expr(col_name):\n",
    "        return expr(f\"element_at(array_sort(aggregate(collect_list({col_name}), map(), \"\n",
    "                    f\"(acc, x) -> map_concat(acc, map(x, coalesce(acc[x], 0) + 1)), \"\n",
    "                    f\"acc -> acc)), -1).key\")\n",
    "\n",
    "    result = linked_df.groupBy(\"MASTER_GUEST_ID\").agg(\n",
    "        count(\"TRANSACTION_ID\").alias(\"total_transactions\"),\n",
    "        _sum(\"EXTENDED_PRICE_USD\").alias(\"total_spend_usd\"),\n",
    "        avg(\"DISCOUNT_PCT\").alias(\"avg_discount_pct\"),\n",
    "        mode_expr(\"MMS_DEPT_NAME\").alias(\"top_category\"),\n",
    "        mode_expr(\"MASTER_ORDER_ORIGIN\").alias(\"top_channel\"),\n",
    "        mode_expr(\"SELLING_MARKET\").alias(\"top_market\"),\n",
    "        mode_expr(\"COUPON_CODE\").alias(\"top_coupon\"),\n",
    "        _max(\"TXN_TIMESTAMP\").alias(\"last_txn_date\")\n",
    "    ).withColumn(\n",
    "        \"days_since_last_txn\", datediff(lit(ref_date), col(\"last_txn_date\"))\n",
    "    )\n",
    "\n",
    "    result = result \\\n",
    "        .withColumn(\"frequency\",\n",
    "            when(col(\"total_transactions\") >= 10, \"frequent\")\n",
    "            .when(col(\"total_transactions\") >= 5, \"regular\")\n",
    "            .otherwise(\"occasional\")\n",
    "        ).withColumn(\"spender\",\n",
    "            when(col(\"total_spend_usd\") >= 500, \"high spender\")\n",
    "            .when(col(\"total_spend_usd\") >= 200, \"mid-level spender\")\n",
    "            .otherwise(\"low spender\")\n",
    "        ).withColumn(\"deal_type\",\n",
    "            when(col(\"avg_discount_pct\") >= 20, \"deal-seeker\")\n",
    "            .when(col(\"avg_discount_pct\") >= 5, \"value-conscious\")\n",
    "            .otherwise(\"full-price shopper\")\n",
    "        ).withColumn(\"recency\",\n",
    "            when(col(\"days_since_last_txn\") <= 30, \"recent\")\n",
    "            .when(col(\"days_since_last_txn\") <= 90, \"somewhat active\")\n",
    "            .otherwise(\"lapsed\")\n",
    "        ).withColumn(\"coupon_phrase\",\n",
    "            when(col(\"top_coupon\").isNotNull(),\n",
    "                 concat_ws(\" \", lit(\"frequently uses promo codes like\"), col(\"top_coupon\")))\n",
    "            .otherwise(lit(\"rarely uses promotions\"))\n",
    "        ).withColumn(\"persona_sentence\",\n",
    "            concat_ws(\" \",\n",
    "                col(\"frequency\"),\n",
    "                lower(col(\"top_channel\")), lit(\"shopper from\"),\n",
    "                col(\"top_market\"), lit(\"focused on\"),\n",
    "                concat_ws(\"\", col(\"top_category\"), lit(\", a\")),\n",
    "                col(\"spender\"), lit(\"and\"), concat_ws(\"\", col(\"deal_type\"), lit(\",\")),\n",
    "                col(\"recency\"), lit(\"guest who\"), concat_ws(\"\", col(\"coupon_phrase\"), lit(\",\")),\n",
    "                lit(\"with last purchase\"), col(\"days_since_last_txn\").cast(\"string\"), lit(\"days ago.\")\n",
    "            )\n",
    "        )\n",
    "\n",
    "    return result\n"
   ]
  }
 ],
 "metadata": {
  "application/vnd.databricks.v1+notebook": {
   "computePreferences": null,
   "dashboards": [],
   "environmentMetadata": {
    "base_environment": "",
    "environment_version": "2"
   },
   "inputWidgetPreferences": null,
   "language": "python",
   "notebookMetadata": {
    "pythonIndentUnit": 4
   },
   "notebookName": "03_gold_guest_persona_summary",
   "widgets": {}
  },
  "language_info": {
   "name": "python"
  }
 },
 "nbformat": 4,
 "nbformat_minor": 0
}
