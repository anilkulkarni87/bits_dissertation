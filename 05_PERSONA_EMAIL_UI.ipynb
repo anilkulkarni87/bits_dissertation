{
 "cells": [
  {
   "cell_type": "code",
   "execution_count": 0,
   "metadata": {
    "application/vnd.databricks.v1+cell": {
     "cellMetadata": {
      "byteLimit": 2048000,
      "rowLimit": 10000
     },
     "inputWidgets": {},
     "nuid": "b9d3f2c8-158c-4290-b6b8-3e18abb4eba2",
     "showTitle": false,
     "tableResultSettingsMap": {},
     "title": ""
    }
   },
   "outputs": [],
   "source": [
    "%pip install streamlit"
   ]
  },
  {
   "cell_type": "code",
   "execution_count": 0,
   "metadata": {
    "application/vnd.databricks.v1+cell": {
     "cellMetadata": {
      "byteLimit": 2048000,
      "rowLimit": 10000
     },
     "inputWidgets": {},
     "nuid": "7df07e92-e35b-49ff-9998-0b6988f93d35",
     "showTitle": false,
     "tableResultSettingsMap": {},
     "title": ""
    }
   },
   "outputs": [],
   "source": [
    "import streamlit as st\n",
    "import pandas as pd\n",
    "# from openai import OpenAI"
   ]
  },
  {
   "cell_type": "code",
   "execution_count": 0,
   "metadata": {
    "application/vnd.databricks.v1+cell": {
     "cellMetadata": {
      "byteLimit": 2048000,
      "rowLimit": 10000
     },
     "inputWidgets": {},
     "nuid": "cc51f813-3bfe-47dc-a53e-82866a91b57b",
     "showTitle": false,
     "tableResultSettingsMap": {},
     "title": ""
    }
   },
   "outputs": [],
   "source": [
    "# Load the enriched persona + email data\n",
    "df = pd.read_csv(\"generated_emails_sample.csv\")  # Adjust path if needed\n",
    "\n",
    "display(df)\n",
    "\n",
    "st.set_page_config(page_title=\"🧬 Guest Persona Explorer\", layout=\"wide\")\n",
    "st.title(\"🧬 Guest Persona Explorer\")\n",
    "st.markdown(\"Explore customer segments, personas, and personalized marketing emails.\")\n",
    "\n",
    "# Sidebar filters\n",
    "st.sidebar.header(\"🔍 Filter Guests\")\n",
    "selected_cluster = st.sidebar.selectbox(\n",
    "    \"Select Persona Cluster:\", [\"All\"] + sorted(df[\"persona_cluster_label\"].unique().tolist())\n",
    ")\n",
    "\n",
    "if selected_cluster != \"All\":\n",
    "    df = df[df[\"persona_cluster_label\"] == selected_cluster]\n",
    "\n",
    "# Show guest summary\n",
    "st.subheader(\"📋 Guest Profiles\")\n",
    "st.dataframe(df[[\n",
    "    \"MASTER_GUEST_ID\", \"persona_cluster_label\", \"persona_sentence\"\n",
    "]], use_container_width=True)\n",
    "\n",
    "# Select a guest to view email\n",
    "guest_id = st.selectbox(\"Select a Guest to View Email:\", df[\"MASTER_GUEST_ID\"].unique())\n",
    "selected_row = df[df[\"MASTER_GUEST_ID\"] == guest_id].iloc[0]\n",
    "\n",
    "st.markdown(\"---\")\n",
    "st.subheader(\"📬 Generated Email\")\n",
    "st.markdown(f\"**Persona Cluster:** {selected_row['persona_cluster_label']}\")\n",
    "st.markdown(f\"**Persona Sentence:** {selected_row['persona_sentence']}\")\n",
    "st.markdown(f\"**Generated Email:**\")\n",
    "st.code(selected_row[\"email_generated\"], language='markdown')"
   ]
  }
 ],
 "metadata": {
  "application/vnd.databricks.v1+notebook": {
   "computePreferences": null,
   "dashboards": [],
   "environmentMetadata": {
    "base_environment": "",
    "environment_version": "2"
   },
   "inputWidgetPreferences": null,
   "language": "python",
   "notebookMetadata": {
    "pythonIndentUnit": 4
   },
   "notebookName": "05_PERSONA_EMAIL_UI",
   "widgets": {}
  },
  "language_info": {
   "name": "python"
  }
 },
 "nbformat": 4,
 "nbformat_minor": 0
}
