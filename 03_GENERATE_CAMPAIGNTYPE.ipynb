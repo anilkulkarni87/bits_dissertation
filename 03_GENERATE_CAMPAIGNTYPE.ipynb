{
 "cells": [
  {
   "cell_type": "code",
   "execution_count": 0,
   "metadata": {
    "application/vnd.databricks.v1+cell": {
     "cellMetadata": {
      "byteLimit": 2048000,
      "implicitDf": true,
      "rowLimit": 10000
     },
     "inputWidgets": {},
     "nuid": "28fc7801-507c-464c-89f1-a1021bf3a728",
     "showTitle": false,
     "tableResultSettingsMap": {},
     "title": ""
    }
   },
   "outputs": [],
   "source": [
    "%sql\n",
    "CREATE TABLE bits_pilani.raw_sch.campaign_templates (\n",
    "  campaign_key STRING,\n",
    "  campaign_type STRING,\n",
    "  offer_template STRING,\n",
    "  tone STRING,\n",
    "  call_to_action STRING\n",
    ");\n",
    "\n",
    "INSERT INTO bits_pilani.raw_sch.campaign_templates VALUES\n",
    "  (\"loyalty_reward\", \"Loyalty Reward\", \"Exclusive reward: $20 off for being a loyal guest\", \"Warm and appreciative\", \"Claim Your Reward\"),\n",
    "  (\"seasonal_sale\", \"Seasonal Sale\", \"25% off everything in {top_category}\", \"Energetic and persuasive\", \"Grab the Deal Now\"),\n",
    "  (\"reactivation\", \"Reactivation\", \"Come back for 15% off your next purchase\", \"Empathetic and inviting\", \"Return & Save\"),\n",
    "  (\"new_arrival\", \"New Arrivals\", \"Explore our latest in {top_category}\", \"Friendly and curious\", \"Shop New Arrivals\");\n"
   ]
  },
  {
   "cell_type": "code",
   "execution_count": 0,
   "metadata": {
    "application/vnd.databricks.v1+cell": {
     "cellMetadata": {
      "byteLimit": 2048000,
      "rowLimit": 10000
     },
     "inputWidgets": {},
     "nuid": "30ee9eb2-bd5b-4885-a916-3d4025db9935",
     "showTitle": false,
     "tableResultSettingsMap": {},
     "title": ""
    }
   },
   "outputs": [],
   "source": [
    "campaign_df = spark.table(\"bits_pilani.raw_sch.campaign_templates\")\n",
    "campaign_dict = {\n",
    "    row[\"campaign_key\"]: {\n",
    "        \"campaign_type\": row[\"campaign_type\"],\n",
    "        \"offer\": row[\"offer_template\"],\n",
    "        \"tone\": row[\"tone\"],\n",
    "        \"cta\": row[\"call_to_action\"]\n",
    "    }\n",
    "    for row in campaign_df.collect()\n",
    "}\n"
   ]
  },
  {
   "cell_type": "code",
   "execution_count": 0,
   "metadata": {
    "application/vnd.databricks.v1+cell": {
     "cellMetadata": {
      "byteLimit": 2048000,
      "implicitDf": true,
      "rowLimit": 10000
     },
     "inputWidgets": {},
     "nuid": "60d89efe-63bf-467d-91e4-2b2d5260d597",
     "showTitle": false,
     "tableResultSettingsMap": {},
     "title": ""
    }
   },
   "outputs": [],
   "source": [
    "%sql\n",
    "CREATE OR REPLACE TABLE bits_pilani.gold_sch.guest_persona_campaign_enriched AS\n",
    "SELECT *,\n",
    "  CASE\n",
    "    WHEN days_since_last_txn > 90 THEN 'reactivation'\n",
    "    WHEN total_transactions > 10 THEN 'loyalty_reward'\n",
    "    WHEN avg_discount_pct > 8 THEN 'seasonal_sale'\n",
    "    ELSE 'new_arrival'\n",
    "  END AS campaign_key\n",
    "FROM bits_pilani.gold_sch.guest_persona_enriched;\n"
   ]
  }
 ],
 "metadata": {
  "application/vnd.databricks.v1+notebook": {
   "computePreferences": null,
   "dashboards": [],
   "environmentMetadata": {
    "base_environment": "",
    "environment_version": "2"
   },
   "inputWidgetPreferences": null,
   "language": "python",
   "notebookMetadata": {
    "mostRecentlyExecutedCommandWithImplicitDF": {
     "commandId": 5954235563039109,
     "dataframes": [
      "_sqldf"
     ]
    },
    "pythonIndentUnit": 4
   },
   "notebookName": "03_GENERATE_CAMPAIGNTYPE",
   "widgets": {}
  },
  "language_info": {
   "name": "python"
  }
 },
 "nbformat": 4,
 "nbformat_minor": 0
}
