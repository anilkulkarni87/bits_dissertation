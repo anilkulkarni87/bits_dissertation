{
 "cells": [
  {
   "cell_type": "code",
   "execution_count": 0,
   "metadata": {
    "application/vnd.databricks.v1+cell": {
     "cellMetadata": {
      "byteLimit": 2048000,
      "rowLimit": 10000
     },
     "inputWidgets": {},
     "nuid": "ec59ef49-b955-443c-98fd-e05e1170bdbf",
     "showTitle": false,
     "tableResultSettingsMap": {},
     "title": ""
    }
   },
   "outputs": [],
   "source": [
    "# Step 1: Install dependencies\n",
    "%pip install faker tqdm\n"
   ]
  },
  {
   "cell_type": "code",
   "execution_count": 0,
   "metadata": {
    "application/vnd.databricks.v1+cell": {
     "cellMetadata": {
      "byteLimit": 2048000,
      "rowLimit": 10000
     },
     "inputWidgets": {},
     "nuid": "0bb4cd07-56f6-4775-8e24-a4b243e4f707",
     "showTitle": false,
     "tableResultSettingsMap": {},
     "title": ""
    }
   },
   "outputs": [],
   "source": [
    "# Step 2: Imports\n",
    "import pandas as pd\n",
    "import numpy as np\n",
    "import random\n",
    "from faker import Faker\n",
    "from datetime import datetime, timedelta\n",
    "import uuid\n",
    "from tqdm import tqdm\n",
    "\n",
    "# Setup\n",
    "fake = Faker()\n",
    "Faker.seed(42)\n",
    "np.random.seed(42)\n",
    "random.seed(42)\n",
    "tqdm.pandas()"
   ]
  },
  {
   "cell_type": "code",
   "execution_count": 0,
   "metadata": {
    "application/vnd.databricks.v1+cell": {
     "cellMetadata": {
      "byteLimit": 2048000,
      "rowLimit": 10000
     },
     "inputWidgets": {},
     "nuid": "0eeae228-185a-4c7e-a367-c8fc0cb481a2",
     "showTitle": false,
     "tableResultSettingsMap": {},
     "title": ""
    }
   },
   "outputs": [],
   "source": [
    "# Step 3: Configuration\n",
    "NUM_RECORDS = 400000\n",
    "GUEST_POOL_SIZE = 50000\n",
    "anonymous_ratio = 0.1\n",
    "\n",
    "guest_pool = [str(uuid.uuid4()) for _ in range(GUEST_POOL_SIZE)]\n",
    "\n",
    "regions = {\n",
    "    \"NA\": [\"US\", \"CA\"],\n",
    "    \"EMEA\": [\"GB\", \"DE\", \"FR\", \"NL\"],\n",
    "    \"APeC\": [\"SG\", \"AU\", \"IN\", \"HK\"]\n",
    "}\n",
    "departments = [\"Yoga\", \"Running\", \"Outerwear\", \"Accessories\", \"Footwear\", \"Training\"]\n",
    "channels = [\"STORE\", \"ECOM\", \"APP\"]\n",
    "promo_codes = [\"WINTER20\", \"BLACKFRIDAY\", \"CYBER15\", \"NEWYEAR10\", None, None, None]\n",
    "coupon_descriptions = {\n",
    "    \"WINTER20\": \"20% off Winter Collection\",\n",
    "    \"BLACKFRIDAY\": \"Black Friday Special\",\n",
    "    \"CYBER15\": \"Cyber Monday Deal\",\n",
    "    \"NEWYEAR10\": \"New Year Offer\",\n",
    "    None: None\n",
    "}\n",
    "\n",
    "end_date = datetime.today()\n",
    "start_date = end_date - timedelta(days=365)"
   ]
  },
  {
   "cell_type": "code",
   "execution_count": 0,
   "metadata": {
    "application/vnd.databricks.v1+cell": {
     "cellMetadata": {
      "byteLimit": 2048000,
      "rowLimit": 10000
     },
     "inputWidgets": {},
     "nuid": "641fb5ac-f786-46be-9357-ecc09c21f9f1",
     "showTitle": false,
     "tableResultSettingsMap": {},
     "title": ""
    }
   },
   "outputs": [],
   "source": [
    "# Step 4: Data generation function\n",
    "def generate_transaction_record():\n",
    "    txn_date = fake.date_time_between(start_date=start_date, end_date=end_date)\n",
    "    market_region = random.choice(list(regions.keys()))\n",
    "    selling_market = random.choice(regions[market_region])\n",
    "\n",
    "    is_linked_guest = random.random() > anonymous_ratio\n",
    "    guest_id = random.choice(guest_pool) if is_linked_guest else None\n",
    "    master_guest_id = guest_id if is_linked_guest else None\n",
    "\n",
    "    quantity = np.random.randint(1, 4)\n",
    "    unit_price = round(np.random.uniform(20, 150), 2)\n",
    "    discount_pct = np.random.choice([0, 10, 15, 20, 25], p=[0.5, 0.2, 0.15, 0.1, 0.05])\n",
    "    discount_amt = round(unit_price * quantity * (discount_pct / 100), 2)\n",
    "    extended_price = round(unit_price * quantity - discount_amt, 2)\n",
    "    gross_margin = round(extended_price * np.random.uniform(0.3, 0.6), 2)\n",
    "\n",
    "    coupon_code = random.choice(promo_codes)\n",
    "    coupon_description = coupon_descriptions[coupon_code]\n",
    "\n",
    "    return {\n",
    "        \"TRANSACTION_ID\": str(uuid.uuid4()),\n",
    "        \"TXN_TIMESTAMP\": txn_date,\n",
    "        \"TXN_DATE_ID\": int(txn_date.strftime(\"%Y%m%d\")),\n",
    "        \"MASTER_GUEST_ID\": master_guest_id,\n",
    "        \"GUEST_ID\": guest_id,\n",
    "        \"LOCATION_ID\": np.random.randint(1000, 2000),\n",
    "        \"SELLING_MARKET\": selling_market,\n",
    "        \"SKU\": np.random.randint(100000, 999999),\n",
    "        \"MMS_DEPT_NAME\": random.choice(departments),\n",
    "        \"QUANTITY\": quantity,\n",
    "        \"UNIT_REGULAR_PRICE_USD\": unit_price,\n",
    "        \"EXTENDED_DISCOUNT_USD\": discount_amt,\n",
    "        \"DISCOUNT_PCT\": discount_pct,\n",
    "        \"EXTENDED_PRICE_USD\": extended_price,\n",
    "        \"GROSS_MARGIN_AMT_USD\": gross_margin,\n",
    "        \"COUPON_CODE\": coupon_code,\n",
    "        \"COUPON_DESCRIPTION\": coupon_description,\n",
    "        \"MASTER_ORDER_ORIGIN\": random.choice(channels)\n",
    "    }\n"
   ]
  },
  {
   "cell_type": "code",
   "execution_count": 0,
   "metadata": {
    "application/vnd.databricks.v1+cell": {
     "cellMetadata": {
      "byteLimit": 2048000,
      "rowLimit": 10000
     },
     "inputWidgets": {},
     "nuid": "0a1954ba-8b1b-4694-80df-47107d421f35",
     "showTitle": false,
     "tableResultSettingsMap": {},
     "title": ""
    }
   },
   "outputs": [],
   "source": [
    "# Step 5: Generate the dataset\n",
    "print(\"Generating 400K records...\")\n",
    "data = [generate_transaction_record() for _ in tqdm(range(NUM_RECORDS))]\n",
    "df_transactions = pd.DataFrame(data)\n",
    "display(df_transactions.head())"
   ]
  },
  {
   "cell_type": "code",
   "execution_count": 0,
   "metadata": {
    "application/vnd.databricks.v1+cell": {
     "cellMetadata": {
      "byteLimit": 2048000,
      "rowLimit": 10000
     },
     "inputWidgets": {},
     "nuid": "4fff1578-bf28-4e91-be4d-3282d279324d",
     "showTitle": false,
     "tableResultSettingsMap": {},
     "title": ""
    }
   },
   "outputs": [],
   "source": [
    "# Step 6: Convert to Spark and save to Bronze schema\n",
    "df_spark = spark.createDataFrame(df_transactions)\n",
    "df_spark.write.mode(\"overwrite\").saveAsTable(\"bits_pilani.bronze_sch.synthetic_retail_transactions\")\n",
    "print(\"✅ Data written to table: bronze.synthetic_retail_transactions\")\n"
   ]
  }
 ],
 "metadata": {
  "application/vnd.databricks.v1+notebook": {
   "computePreferences": null,
   "dashboards": [],
   "environmentMetadata": {
    "base_environment": "",
    "environment_version": "2"
   },
   "inputWidgetPreferences": null,
   "language": "python",
   "notebookMetadata": {
    "pythonIndentUnit": 4
   },
   "notebookName": "01_SYNTHETIC_RTL_DATA_PREP",
   "widgets": {}
  },
  "language_info": {
   "name": "python"
  }
 },
 "nbformat": 4,
 "nbformat_minor": 0
}
